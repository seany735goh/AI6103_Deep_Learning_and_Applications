{
 "cells": [
  {
   "cell_type": "markdown",
   "id": "mDmZ2YN9Whts",
   "metadata": {
    "id": "mDmZ2YN9Whts"
   },
   "source": [
    "# Import All Libraries to be used"
   ]
  },
  {
   "cell_type": "code",
   "execution_count": 12,
   "id": "HjHGFWgQWhZX",
   "metadata": {
    "ExecuteTime": {
     "end_time": "2023-03-15T00:07:15.991049Z",
     "start_time": "2023-03-15T00:07:15.981403Z"
    },
    "colab": {
     "base_uri": "https://localhost:8080/"
    },
    "executionInfo": {
     "elapsed": 5849,
     "status": "ok",
     "timestamp": 1678728381413,
     "user": {
      "displayName": "Sean goh",
      "userId": "10849256875953016575"
     },
     "user_tz": -480
    },
    "id": "HjHGFWgQWhZX",
    "outputId": "f398e2a5-7bb4-4442-d5b1-c44089ce138d"
   },
   "outputs": [
    {
     "name": "stdout",
     "output_type": "stream",
     "text": [
      "here\n",
      "here2\n"
     ]
    }
   ],
   "source": [
    "import torch\n",
    "import torchvision\n",
    "import torch.nn as nn\n",
    "import torch.nn.functional as F\n",
    "print('here')\n",
    "import torchvision.transforms as transforms\n",
    "print('here2')\n",
    "import numpy as np\n",
    "import os\n",
    "import matplotlib\n",
    "# matplotlib.use('Agg')\n",
    "import matplotlib.pyplot as plt\n",
    "import time\n",
    "# from google.colab import drive\n",
    "# drive.mount('/content/drive/') # mount your drive\n",
    "# %cd '/content/drive/My Drive/Notability/AI6103 Deep Learning & Applications/assignment-mobilenet-code/'\n",
    "\n"
   ]
  },
  {
   "cell_type": "markdown",
   "id": "c2236f46",
   "metadata": {
    "id": "c2236f46"
   },
   "source": [
    "# Define plot_loss_acc"
   ]
  },
  {
   "cell_type": "code",
   "execution_count": 3,
   "id": "d9ac8174",
   "metadata": {
    "ExecuteTime": {
     "end_time": "2023-03-15T00:05:05.214352Z",
     "start_time": "2023-03-15T00:05:05.194852Z"
    },
    "executionInfo": {
     "elapsed": 427,
     "status": "ok",
     "timestamp": 1678728407734,
     "user": {
      "displayName": "Sean goh",
      "userId": "10849256875953016575"
     },
     "user_tz": -480
    },
    "id": "d9ac8174"
   },
   "outputs": [],
   "source": [
    "def plot_loss_acc(train_loss, val_loss, train_acc, val_acc, fig_name):\n",
    "    x = np.arange(len(train_loss))\n",
    "    max_loss = max(max(train_loss), max(val_loss))\n",
    "\n",
    "    fig, ax1 = plt.subplots()\n",
    "    ax1.set_xlabel('epoch')\n",
    "    ax1.set_ylabel('loss')\n",
    "    ax1.set_ylim([0,max_loss+1])\n",
    "    lns1 = ax1.plot(x, train_loss, 'yo-', label='train_loss')\n",
    "    lns2 = ax1.plot(x, val_loss, 'go-', label='val_loss')\n",
    "    # ax1.tick_params(axis='y', labelcolor='tab:blue')\n",
    "\n",
    "    ax2 = ax1.twinx()\n",
    "    ax2.set_ylabel('accuracy')\n",
    "    ax2.set_ylim([0,1])\n",
    "    lns3 = ax2.plot(x, train_acc, 'bo-', label='train_acc')\n",
    "    lns4 = ax2.plot(x, val_acc, 'ro-', label='val_acc')\n",
    "    # ax2.tick_params(axis='y', labelcolor='tab:red')\n",
    "\n",
    "    lns = lns1+lns2+lns3+lns4\n",
    "    labs = [l.get_label() for l in lns]\n",
    "    ax2.legend(lns, labs, loc=0)\n",
    "\n",
    "    fig.tight_layout()\n",
    "    plt.title(fig_name)\n",
    "\n",
    "    plt.savefig('./diagram/' + fig_name)\n",
    "\n",
    "    np.savez('./diagram/' + fig_name.replace('.png ', '.npz'), train_loss=train_loss, val_loss=val_loss, train_acc=train_acc, val_acc=val_acc)\n"
   ]
  },
  {
   "cell_type": "markdown",
   "id": "18f20c1e",
   "metadata": {
    "id": "18f20c1e"
   },
   "source": [
    "# MobileNet"
   ]
  },
  {
   "cell_type": "code",
   "execution_count": 4,
   "id": "147cca0b",
   "metadata": {
    "ExecuteTime": {
     "end_time": "2023-03-15T00:05:08.324086Z",
     "start_time": "2023-03-15T00:05:08.299554Z"
    },
    "executionInfo": {
     "elapsed": 401,
     "status": "ok",
     "timestamp": 1678728411391,
     "user": {
      "displayName": "Sean goh",
      "userId": "10849256875953016575"
     },
     "user_tz": -480
    },
    "id": "147cca0b"
   },
   "outputs": [],
   "source": [
    "'''MobileNet in PyTorch.\n",
    "See the paper \"MobileNets: Efficient Convolutional Neural Networks for Mobile Vision Applications\"\n",
    "for more details.\n",
    "'''\n",
    "\n",
    "class Block(nn.Module):\n",
    "    '''Depthwise conv + Pointwise conv'''\n",
    "    def __init__(self, in_planes, out_planes, stride=1):\n",
    "        super(Block, self).__init__()\n",
    "        self.conv1 = nn.Conv2d(in_planes, in_planes, kernel_size=3, stride=stride, padding=1, groups=in_planes, bias=False)\n",
    "        self.bn1 = nn.BatchNorm2d(in_planes)\n",
    "        self.conv2 = nn.Conv2d(in_planes, out_planes, kernel_size=1, stride=1, padding=0, bias=False)\n",
    "        self.bn2 = nn.BatchNorm2d(out_planes)\n",
    "\n",
    "    def forward(self, x):\n",
    "        out = F.relu(self.bn1(self.conv1(x)))\n",
    "        out = F.relu(self.bn2(self.conv2(out)))\n",
    "        return out\n",
    "\n",
    "\n",
    "class MobileNet(nn.Module):\n",
    "    # (128,2) means conv planes=128, conv stride=2, by default conv stride=1\n",
    "    cfg = [64, (128,2), 128, (256,2), 256, (512,2), 512, 512, 512, 512, 512, (1024,2), 1024]\n",
    "\n",
    "    def __init__(self, num_classes=100):\n",
    "        super(MobileNet, self).__init__()\n",
    "        self.conv1 = nn.Conv2d(3, 32, kernel_size=3, stride=1, padding=1, bias=False)\n",
    "        self.bn1 = nn.BatchNorm2d(32)\n",
    "        self.layers = self._make_layers(in_planes=32)\n",
    "        self.linear = nn.Linear(1024, num_classes)\n",
    "\n",
    "    def _make_layers(self, in_planes):\n",
    "        layers = []\n",
    "        for x in self.cfg:\n",
    "            out_planes = x if isinstance(x, int) else x[0]\n",
    "            stride = 1 if isinstance(x, int) else x[1]\n",
    "            layers.append(Block(in_planes, out_planes, stride))\n",
    "            in_planes = out_planes\n",
    "        return nn.Sequential(*layers)\n",
    "\n",
    "    def forward(self, x):\n",
    "        out = F.relu(self.bn1(self.conv1(x)))\n",
    "        out = self.layers(out)\n",
    "        out = F.avg_pool2d(out, 2)\n",
    "        out = out.view(out.size(0), -1)\n",
    "        out = self.linear(out)\n",
    "        return out\n"
   ]
  },
  {
   "cell_type": "markdown",
   "id": "6ca5a1f4",
   "metadata": {
    "heading_collapsed": true,
    "id": "6ca5a1f4"
   },
   "source": [
    "# Main (from .py, DO NOT RUN)"
   ]
  },
  {
   "cell_type": "code",
   "execution_count": null,
   "id": "c5b95d79",
   "metadata": {
    "hidden": true,
    "id": "c5b95d79"
   },
   "outputs": [],
   "source": [
    "import torch\n",
    "import torchvision\n",
    "import torchvision.transforms as transforms\n",
    "import numpy as np\n",
    "# from mobilenet import MobileNet\n",
    "# from utils import plot_loss_acc\n",
    "\n",
    "def main(args):\n",
    "    # fix random seeds\n",
    "    torch.manual_seed(args.seed)\n",
    "    np.random.seed(args.seed)\n",
    "    torch.use_deterministic_algorithms(True)\n",
    "\n",
    "    # train val test\n",
    "    # AI6103 students: You need to create the dataloaders youself\n",
    "    train_loader, valid_loader = get_train_valid_loader(args.dataset_dir, args.batch_size, True, args.seed, save_images=args.save_images) \n",
    "    if args.test:\n",
    "        test_loader = get_test_loader(args.dataset_dir, args.batch_size)\n",
    "\n",
    "    # model\n",
    "    model = MobileNet(100)\n",
    "    print(model)\n",
    "    model.cuda()\n",
    "\n",
    "    # criterion\n",
    "    criterion = torch.nn.CrossEntropyLoss().cuda()\n",
    "\n",
    "    # optimizer\n",
    "    optimizer = torch.optim.SGD(model.parameters(), lr=args.lr, momentum=0.9, weight_decay=args.wd)\n",
    "    if args.lr_scheduler:\n",
    "        scheduler = torch.optim.lr_scheduler.CosineAnnealingLR(optimizer, args.epochs)\n",
    "    else:\n",
    "        scheduler = torch.optim.lr_scheduler.ConstantLR(optimizer, factor=1.0, total_iters=args.epochs)\n",
    "\n",
    "    stat_training_loss = []\n",
    "    stat_val_loss = []\n",
    "    stat_training_acc = []\n",
    "    stat_val_acc = []\n",
    "    for epoch in range(args.epochs):\n",
    "        training_loss = 0\n",
    "        training_acc = 0\n",
    "        training_samples = 0\n",
    "        val_loss = 0\n",
    "        val_acc = 0\n",
    "        val_samples = 0\n",
    "        # training\n",
    "        model.train()\n",
    "        for imgs, labels in train_loader:\n",
    "            imgs = imgs.cuda()\n",
    "            labels = labels.cuda()\n",
    "           \n",
    "            batch_size = imgs.shape[0]\n",
    "            optimizer.zero_grad()\n",
    "            logits = model.forward(imgs)\n",
    "            loss = criterion(logits, labels)\n",
    "            loss.backward()\n",
    "            optimizer.step()\n",
    "            _, top_class = logits.topk(1, dim=1)\n",
    "            training_acc += torch.sum(equals.type(torch.FloatTensor)).item()\n",
    "            training_loss += batch_size * loss.item()\n",
    "            training_samples += batch_size\n",
    "        # validation\n",
    "        model.eval()\n",
    "        for val_imgs, val_labels in valid_loader:\n",
    "            batch_size = val_imgs.shape[0]\n",
    "            val_logits = model.forward(val_imgs.cuda())\n",
    "            loss = criterion(val_logits, val_labels.cuda())\n",
    "            _, top_class = val_logits.topk(1, dim=1)\n",
    "            equals = top_class == val_labels.cuda().view(*top_class.shape)\n",
    "            val_acc += torch.sum(equals.type(torch.FloatTensor)).item()\n",
    "            val_loss += batch_size * loss.item()\n",
    "            val_samples += batch_size\n",
    "        assert val_samples == 10000\n",
    "        # update stats\n",
    "        stat_training_loss.append(training_loss/training_samples)\n",
    "        stat_val_loss.append(val_loss/val_samples)\n",
    "        stat_training_acc.append(training_acc/training_samples)\n",
    "        stat_val_acc.append(val_acc/val_samples)\n",
    "        # print\n",
    "        print(f\"Epoch {(epoch+1):d}/{args.epochs:d}.. Learning rate: {scheduler.get_lr()[0]:.4f}.. Train loss: {(training_loss/training_samples):.4f}.. Train acc: {(training_acc/training_samples):.4f}.. Val loss: {(val_loss/val_samples):.4f}.. Val acc: {(val_acc/val_samples):.4f}\")\n",
    "        # lr scheduler\n",
    "        scheduler.step()\n",
    "    # plot\n",
    "    plot_loss_acc(stat_training_loss, stat_val_loss, stat_training_acc, stat_val_acc, args.fig_name)\n",
    "    # test\n",
    "    if args.test:\n",
    "        test_loss = 0\n",
    "        test_acc = 0\n",
    "        test_samples = 0\n",
    "        for test_imgs, test_labels in test_loader:\n",
    "            batch_size = test_imgs.shape[0]\n",
    "            test_logits = model.forward(test_imgs.cuda())\n",
    "            test_loss = criterion(test_logits, test_labels.cuda())\n",
    "            _, top_class = test_logits.topk(1, dim=1)\n",
    "            equals = top_class == test_labels.cuda().view(*top_class.shape)\n",
    "            test_acc += torch.sum(equals.type(torch.FloatTensor)).item()\n",
    "            test_loss += batch_size * test_loss.item()\n",
    "            test_samples += batch_size\n",
    "        assert test_samples == 10000\n",
    "        print('Test loss: ', test_loss/test_samples)\n",
    "        print('Test acc: ', test_acc/test_samples)\n",
    "\n",
    "\n",
    "\n",
    "if __name__ == '__main__':\n",
    "    import argparse\n",
    "\n",
    "    parser = argparse.ArgumentParser(description='parameters')\n",
    "    parser.add_argument('--dataset_dir',type=str, help='')\n",
    "    parser.add_argument('--batch_size',type=int, help='')\n",
    "    parser.add_argument('--epochs', type=int, help='')\n",
    "    parser.add_argument('--lr',type=float, help='')\n",
    "    parser.add_argument('--wd',type=float, help='')\n",
    "    parser.add_argument('--fig_name',type=str, help='')\n",
    "    parser.add_argument('--lr_scheduler', action='store_true')\n",
    "    parser.set_defaults(lr_scheduler=False)\n",
    "    parser.add_argument('--mixup', action='store_true')\n",
    "    parser.set_defaults(mixup=False)\n",
    "    parser.add_argument('--test', action='store_true')\n",
    "    parser.set_defaults(test=False)\n",
    "    parser.add_argument('--save_images', action='store_true')\n",
    "    parser.set_defaults(save_images=False)\n",
    "    parser.add_argument('--seed', type=int, default=0, help='')\n",
    "    args = parser.parse_args()\n",
    "    print(args)\n",
    "    main(args)\n"
   ]
  },
  {
   "cell_type": "markdown",
   "id": "8fe7d397",
   "metadata": {
    "heading_collapsed": true,
    "id": "8fe7d397"
   },
   "source": [
    "# run (from .py, DO NOT RUN)\n",
    "\n"
   ]
  },
  {
   "cell_type": "markdown",
   "id": "kizEbkJeXNdI",
   "metadata": {
    "hidden": true,
    "id": "kizEbkJeXNdI"
   },
   "source": [
    "export CUBLAS_WORKSPACE_CONFIG=:16:8\n",
    "\n",
    "python main.py \\\n",
    "--dataset_dir ./datasets \\\n",
    "--batch_size 128 \\\n",
    "--epochs 300 \\\n",
    "--lr 0.05 --wd 0.0005 \\\n",
    "--lr_scheduler \\\n",
    "--mixup \\\n",
    "--seed 0 \\\n",
    "--fig_name lr=0.05-lr_sche-wd=0.0005-mixup.png \\\n",
    "--test\n"
   ]
  },
  {
   "cell_type": "markdown",
   "id": "Iumje4CHYsUy",
   "metadata": {
    "id": "Iumje4CHYsUy"
   },
   "source": [
    "# Parameters"
   ]
  },
  {
   "cell_type": "code",
   "execution_count": 5,
   "id": "Uiu8TVqiYuoF",
   "metadata": {
    "ExecuteTime": {
     "end_time": "2023-03-15T00:05:13.223222Z",
     "start_time": "2023-03-15T00:05:13.208585Z"
    },
    "colab": {
     "base_uri": "https://localhost:8080/"
    },
    "executionInfo": {
     "elapsed": 11,
     "status": "ok",
     "timestamp": 1678728419260,
     "user": {
      "displayName": "Sean goh",
      "userId": "10849256875953016575"
     },
     "user_tz": -480
    },
    "id": "Uiu8TVqiYuoF",
    "outputId": "d5460cf5-e47f-400d-8aa9-3d1a2d7bb244"
   },
   "outputs": [
    {
     "name": "stdout",
     "output_type": "stream",
     "text": [
      "cpu\n"
     ]
    }
   ],
   "source": [
    "device = torch.device('cuda' if torch.cuda.is_available() else 'cpu')\n",
    "print(device)\n",
    "\n",
    "# os.environ[\"CUBLAS_WORKSPACE_CONFIG\"]=\":4096:8\""
   ]
  },
  {
   "cell_type": "markdown",
   "id": "MY4kRoQeUhMH",
   "metadata": {
    "id": "MY4kRoQeUhMH"
   },
   "source": [
    "# Data Preprocessing\n"
   ]
  },
  {
   "cell_type": "code",
   "execution_count": 6,
   "id": "YX50ymfOUkBq",
   "metadata": {
    "ExecuteTime": {
     "end_time": "2023-03-15T00:05:54.664484Z",
     "start_time": "2023-03-15T00:05:17.243086Z"
    },
    "colab": {
     "base_uri": "https://localhost:8080/",
     "height": 134,
     "referenced_widgets": [
      "bd025a3dbac642fda20967208600d67e",
      "69fd4d4fe9e046a394965be40288b2ae",
      "e209a46d612f473694f3771e38fda7a8",
      "0c070997ed7349a6b443281d8c6f1954",
      "b1f9a67710af4177a6ae6ffb274c65f1",
      "edeca4bdece3445e9089215ee04b2a2d",
      "d78a3fbf810648fe80b0aed4277c114a",
      "187e88df977e4cc7bd5e24a08c4190e0",
      "242afb5e7a5d4a7cba48d8ec9accebae",
      "4cd7bb44c2ba4884a8a0a2a0da379c69",
      "d355217f442a4e668adbf33a6a7dacc2"
     ]
    },
    "executionInfo": {
     "elapsed": 15408,
     "status": "ok",
     "timestamp": 1678728436614,
     "user": {
      "displayName": "Sean goh",
      "userId": "10849256875953016575"
     },
     "user_tz": -480
    },
    "id": "YX50ymfOUkBq",
    "outputId": "922f8139-5953-47e5-c1d2-fd24a9d18ff4"
   },
   "outputs": [
    {
     "name": "stdout",
     "output_type": "stream",
     "text": [
      "Downloading https://www.cs.toronto.edu/~kriz/cifar-100-python.tar.gz to ./temp/cifar-100-python.tar.gz\n"
     ]
    },
    {
     "data": {
      "application/vnd.jupyter.widget-view+json": {
       "model_id": "5b9a12b54d5a4da8802ceedd991cfe53",
       "version_major": 2,
       "version_minor": 0
      },
      "text/plain": [
       "  0%|          | 0/169001437 [00:00<?, ?it/s]"
      ]
     },
     "metadata": {},
     "output_type": "display_data"
    },
    {
     "name": "stdout",
     "output_type": "stream",
     "text": [
      "Extracting ./temp/cifar-100-python.tar.gz to ./temp\n",
      "Files already downloaded and verified\n",
      "Size of train dataset downloaded: 50000\n",
      "Size of test dataset downloaded: 10000\n"
     ]
    }
   ],
   "source": [
    "# Download dataset\n",
    "train = torchvision.datasets.CIFAR100(root='./temp', train=True, download=True, transform=transforms.ToTensor())\n",
    "test = torchvision.datasets.CIFAR100(root='./temp', train=False, download=True, transform=transforms.ToTensor())\n",
    "print(f'Size of train dataset downloaded: {len(train)}')\n",
    "print(f'Size of test dataset downloaded: {len(test)}')"
   ]
  },
  {
   "cell_type": "code",
   "execution_count": 7,
   "id": "IqmOB-U1iGAJ",
   "metadata": {
    "ExecuteTime": {
     "end_time": "2023-03-15T00:06:00.077057Z",
     "start_time": "2023-03-15T00:06:00.058845Z"
    },
    "colab": {
     "base_uri": "https://localhost:8080/"
    },
    "executionInfo": {
     "elapsed": 16,
     "status": "ok",
     "timestamp": 1678728436615,
     "user": {
      "displayName": "Sean goh",
      "userId": "10849256875953016575"
     },
     "user_tz": -480
    },
    "id": "IqmOB-U1iGAJ",
    "outputId": "3a60d8c5-4f46-4422-ccfa-529e62cd72a2"
   },
   "outputs": [
    {
     "name": "stdout",
     "output_type": "stream",
     "text": [
      "Size of train_set: 40000\n",
      "Size of val_set: 10000\n"
     ]
    }
   ],
   "source": [
    "# Randomly split downloaded training dataset into train_set and val_set with seed 0\n",
    "train_set, val_set = torch.utils.data.random_split(train, [40000, 10000], generator=torch.Generator().manual_seed(0))\n",
    "print(f'Size of train_set: {len(train_set)}')\n",
    "print(f'Size of val_set: {len(val_set)}')"
   ]
  },
  {
   "cell_type": "code",
   "execution_count": 8,
   "id": "-_ZwtKGniIUA",
   "metadata": {
    "ExecuteTime": {
     "end_time": "2023-03-15T00:06:06.239716Z",
     "start_time": "2023-03-15T00:06:03.383154Z"
    },
    "colab": {
     "base_uri": "https://localhost:8080/"
    },
    "executionInfo": {
     "elapsed": 7966,
     "status": "ok",
     "timestamp": 1678728444571,
     "user": {
      "displayName": "Sean goh",
      "userId": "10849256875953016575"
     },
     "user_tz": -480
    },
    "id": "-_ZwtKGniIUA",
    "outputId": "cb1510c4-ee7b-4333-d0c1-e2eab12569e3"
   },
   "outputs": [
    {
     "name": "stdout",
     "output_type": "stream",
     "text": [
      "<class 'torch.utils.data.dataset.Subset'>\n",
      "40000\n"
     ]
    }
   ],
   "source": [
    "# Proportion of each class in train_set\n",
    "print(type(train_set))\n",
    "\n",
    "Count = {}\n",
    "for i in range(len(train_set)):\n",
    "  _, label = train_set[i]\n",
    "  if label in Count:\n",
    "    Count[label] += 1\n",
    "  else:\n",
    "    Count[label] = 1\n",
    "\n",
    "plt.figure(figsize=[20,10])\n",
    "plt.bar(Count.keys(), Count.values())\n",
    "print(sum(Count.values()))"
   ]
  },
  {
   "cell_type": "code",
   "execution_count": 9,
   "id": "UDHsyBk95dWO",
   "metadata": {
    "ExecuteTime": {
     "end_time": "2023-03-15T00:06:12.137175Z",
     "start_time": "2023-03-15T00:06:08.743111Z"
    },
    "colab": {
     "base_uri": "https://localhost:8080/"
    },
    "executionInfo": {
     "elapsed": 8025,
     "status": "ok",
     "timestamp": 1678728452584,
     "user": {
      "displayName": "Sean goh",
      "userId": "10849256875953016575"
     },
     "user_tz": -480
    },
    "id": "UDHsyBk95dWO",
    "outputId": "fe4644b2-065d-4d72-b45d-4db3f04853ab"
   },
   "outputs": [
    {
     "name": "stdout",
     "output_type": "stream",
     "text": [
      "mean: tensor([0.5068, 0.4861, 0.4403])\n",
      "standard deviation: tensor([0.2671, 0.2563, 0.2759])\n"
     ]
    }
   ],
   "source": [
    "# Compute mean and standard deviation\n",
    "img, label = train_set[0]\n",
    "img.size() # RGB, H, W\n",
    "\n",
    "total = torch.tensor([0.0, 0.0, 0.0])\n",
    "total_sq = torch.tensor([0.0, 0.0, 0.0])\n",
    "\n",
    "img_h = img.size()[1]\n",
    "img_w = img.size()[2]\n",
    "pixel_count = len(train_set) * img_h * img_w\n",
    "\n",
    "for i in range(len(train_set)):\n",
    "  img, _ = train_set[i]\n",
    "  total += img.sum(axis=[1,2])\n",
    "  total_sq += (img**2).sum(axis=[1,2])\n",
    "\n",
    "total_mean = total / pixel_count\n",
    "total_std = torch.sqrt((total_sq/pixel_count) - total_mean**2)\n",
    "\n",
    "print(f'mean: {total_mean}')\n",
    "print(f'standard deviation: {total_std}')"
   ]
  },
  {
   "cell_type": "code",
   "execution_count": 10,
   "id": "NTww9YXkOYuO",
   "metadata": {
    "ExecuteTime": {
     "end_time": "2023-03-15T00:06:43.670390Z",
     "start_time": "2023-03-15T00:06:35.121050Z"
    },
    "colab": {
     "base_uri": "https://localhost:8080/"
    },
    "executionInfo": {
     "elapsed": 20884,
     "status": "ok",
     "timestamp": 1678728473453,
     "user": {
      "displayName": "Sean goh",
      "userId": "10849256875953016575"
     },
     "user_tz": -480
    },
    "id": "NTww9YXkOYuO",
    "outputId": "7c44b8ff-6fc8-4ce6-ca14-e26ae7336838"
   },
   "outputs": [
    {
     "name": "stdout",
     "output_type": "stream",
     "text": [
      "Files already downloaded and verified\n",
      "mean: tensor([-0.0029, -0.0132, -0.0160])\n",
      "standard deviation: tensor([0.9200, 0.9178, 0.9173])\n"
     ]
    }
   ],
   "source": [
    "# Normalize data\n",
    "transform_set = transforms.Compose([\n",
    "    transforms.ToTensor(),\n",
    "    transforms.Normalize(total_mean, total_std),\n",
    "    transforms.RandomHorizontalFlip(p=0.5),\n",
    "    transforms.RandomCrop((32, 32), padding=4)\n",
    "])\n",
    "\n",
    "train_norm = torchvision.datasets.CIFAR100(root='./temp', train=True, download=True, transform=transform_set)\n",
    "train_set_norm, val_set_norm = torch.utils.data.random_split(train_norm, [40000, 10000], generator=torch.Generator().manual_seed(0))\n",
    "\n",
    "total_norm = torch.tensor([0.0, 0.0, 0.0])\n",
    "total_sq_norm = torch.tensor([0.0, 0.0, 0.0])\n",
    "\n",
    "for i in range(len(train_set_norm)):\n",
    "  img, _ = train_set_norm[i]\n",
    "  total_norm += img.sum(axis=[1,2])\n",
    "  total_sq_norm += (img**2).sum(axis=[1,2])\n",
    "\n",
    "total_mean_norm = total_norm / pixel_count\n",
    "total_std_norm = torch.sqrt((total_sq_norm/pixel_count) - total_mean_norm**2)\n",
    "\n",
    "print(f'mean: {total_mean_norm}')\n",
    "print(f'standard deviation: {total_std_norm}')"
   ]
  },
  {
   "cell_type": "markdown",
   "id": "fGZHmhUbHVhS",
   "metadata": {
    "id": "fGZHmhUbHVhS"
   },
   "source": [
    "# Show example pic"
   ]
  },
  {
   "cell_type": "code",
   "execution_count": 13,
   "id": "geEc4nI6V_An",
   "metadata": {
    "ExecuteTime": {
     "end_time": "2023-03-15T00:07:22.392701Z",
     "start_time": "2023-03-15T00:07:22.361125Z"
    },
    "colab": {
     "base_uri": "https://localhost:8080/",
     "height": 300
    },
    "executionInfo": {
     "elapsed": 536,
     "status": "ok",
     "timestamp": 1678078613461,
     "user": {
      "displayName": "Sean goh",
      "userId": "10849256875953016575"
     },
     "user_tz": -480
    },
    "id": "geEc4nI6V_An",
    "outputId": "101de49b-bacf-4fa6-c167-8c225d548ac5"
   },
   "outputs": [
    {
     "name": "stdout",
     "output_type": "stream",
     "text": [
      "torch.Size([3, 32, 32])\n",
      "5\n"
     ]
    },
    {
     "name": "stderr",
     "output_type": "stream",
     "text": [
      "/var/folders/3l/hk29ld_90zqg6tqtpjmgnv7m0000gn/T/ipykernel_41960/1863608329.py:5: UserWarning: Matplotlib is currently using agg, which is a non-GUI backend, so cannot show the figure.\n",
      "  plt.show()\n"
     ]
    }
   ],
   "source": [
    "pic, label = (train_set[0])\n",
    "print(pic.size())\n",
    "plt.figure()\n",
    "plt.imshow(pic.permute(1, 2, 0))\n",
    "plt.show()\n",
    "print(label)"
   ]
  },
  {
   "cell_type": "code",
   "execution_count": 14,
   "id": "sgJlR1OUfkis",
   "metadata": {
    "ExecuteTime": {
     "end_time": "2023-03-15T00:07:37.582564Z",
     "start_time": "2023-03-15T00:07:37.560635Z"
    },
    "colab": {
     "base_uri": "https://localhost:8080/"
    },
    "executionInfo": {
     "elapsed": 17,
     "status": "ok",
     "timestamp": 1678083307729,
     "user": {
      "displayName": "Sean goh",
      "userId": "10849256875953016575"
     },
     "user_tz": -480
    },
    "id": "sgJlR1OUfkis",
    "outputId": "eed4837d-09a0-48ba-fa6f-a31ecc11c87a"
   },
   "outputs": [
    {
     "data": {
      "text/plain": [
       "tensor([[[0.4549, 0.4784, 0.5176,  ..., 0.7922, 0.7725, 0.7490],\n",
       "         [0.4667, 0.4941, 0.5373,  ..., 0.7922, 0.7843, 0.7647],\n",
       "         [0.4784, 0.5098, 0.5765,  ..., 0.7804, 0.7922, 0.7804],\n",
       "         ...,\n",
       "         [0.3216, 0.3373, 0.3490,  ..., 0.3176, 0.3059, 0.3020],\n",
       "         [0.3255, 0.3412, 0.3490,  ..., 0.3176, 0.3059, 0.2863],\n",
       "         [0.3216, 0.3373, 0.3569,  ..., 0.3216, 0.3020, 0.2745]],\n",
       "\n",
       "        [[0.4078, 0.4235, 0.4706,  ..., 0.7294, 0.7137, 0.6941],\n",
       "         [0.4235, 0.4392, 0.4745,  ..., 0.7255, 0.7255, 0.7137],\n",
       "         [0.4353, 0.4510, 0.5020,  ..., 0.6941, 0.7255, 0.7294],\n",
       "         ...,\n",
       "         [0.2863, 0.3020, 0.3176,  ..., 0.2824, 0.2980, 0.2824],\n",
       "         [0.2902, 0.3059, 0.3137,  ..., 0.2863, 0.2902, 0.2706],\n",
       "         [0.2863, 0.3020, 0.3216,  ..., 0.2941, 0.2863, 0.2588]],\n",
       "\n",
       "        [[0.3412, 0.3569, 0.3961,  ..., 0.6745, 0.6667, 0.6549],\n",
       "         [0.3608, 0.3725, 0.3922,  ..., 0.6627, 0.6745, 0.6706],\n",
       "         [0.3765, 0.3804, 0.4039,  ..., 0.6118, 0.6706, 0.6902],\n",
       "         ...,\n",
       "         [0.2549, 0.2627, 0.2745,  ..., 0.2667, 0.2667, 0.2627],\n",
       "         [0.2588, 0.2745, 0.2824,  ..., 0.2667, 0.2706, 0.2392],\n",
       "         [0.2549, 0.2745, 0.2941,  ..., 0.2706, 0.2706, 0.2235]]])"
      ]
     },
     "execution_count": 14,
     "metadata": {},
     "output_type": "execute_result"
    }
   ],
   "source": [
    "train_set[0][0]"
   ]
  },
  {
   "cell_type": "markdown",
   "id": "hvCu2Xm7Hc1K",
   "metadata": {
    "id": "hvCu2Xm7Hc1K"
   },
   "source": [
    "# Learning Rate"
   ]
  },
  {
   "cell_type": "code",
   "execution_count": 15,
   "id": "NqB1zqfCHfEB",
   "metadata": {
    "ExecuteTime": {
     "end_time": "2023-03-15T03:05:00.814631Z",
     "start_time": "2023-03-15T00:07:41.394471Z"
    },
    "colab": {
     "base_uri": "https://localhost:8080/"
    },
    "executionInfo": {
     "elapsed": 1484413,
     "status": "ok",
     "timestamp": 1678733474627,
     "user": {
      "displayName": "Sean goh",
      "userId": "10849256875953016575"
     },
     "user_tz": -480
    },
    "id": "NqB1zqfCHfEB",
    "outputId": "927ad07f-85ff-430e-e2da-4a6e3747e95e"
   },
   "outputs": [
    {
     "name": "stdout",
     "output_type": "stream",
     "text": [
      "Epoch 1/15, Epoch time: 209.48s Learning rate: 0.5000, Train loss: 4.5536, Train acc: 0.0199, Val loss: 4.3049, Val acc: 0.0287\n",
      "Epoch 2/15, Epoch time: 234.34s Learning rate: 0.5000, Train loss: 4.1980, Train acc: 0.0404, Val loss: 4.0816, Val acc: 0.0624\n",
      "Epoch 3/15, Epoch time: 229.38s Learning rate: 0.5000, Train loss: 3.9336, Train acc: 0.0764, Val loss: 3.8475, Val acc: 0.0868\n",
      "Epoch 4/15, Epoch time: 243.18s Learning rate: 0.5000, Train loss: 3.7339, Train acc: 0.1069, Val loss: 3.6489, Val acc: 0.1258\n",
      "Epoch 5/15, Epoch time: 222.93s Learning rate: 0.5000, Train loss: 3.4943, Train acc: 0.1485, Val loss: 3.6763, Val acc: 0.1398\n",
      "Epoch 6/15, Epoch time: 222.99s Learning rate: 0.5000, Train loss: 3.2727, Train acc: 0.1875, Val loss: 3.2070, Val acc: 0.1986\n",
      "Epoch 7/15, Epoch time: 215.29s Learning rate: 0.5000, Train loss: 3.0632, Train acc: 0.2223, Val loss: 3.0884, Val acc: 0.2237\n",
      "Epoch 8/15, Epoch time: 223.48s Learning rate: 0.5000, Train loss: 2.8965, Train acc: 0.2553, Val loss: 3.0124, Val acc: 0.2398\n",
      "Epoch 9/15, Epoch time: 222.00s Learning rate: 0.5000, Train loss: 2.7566, Train acc: 0.2837, Val loss: 2.7609, Val acc: 0.2767\n",
      "Epoch 10/15, Epoch time: 222.58s Learning rate: 0.5000, Train loss: 2.6201, Train acc: 0.3138, Val loss: 2.6197, Val acc: 0.3180\n",
      "Epoch 11/15, Epoch time: 233.68s Learning rate: 0.5000, Train loss: 2.4984, Train acc: 0.3379, Val loss: 2.6847, Val acc: 0.3178\n",
      "Epoch 12/15, Epoch time: 224.69s Learning rate: 0.5000, Train loss: 2.3970, Train acc: 0.3618, Val loss: 2.4806, Val acc: 0.3428\n",
      "Epoch 13/15, Epoch time: 239.88s Learning rate: 0.5000, Train loss: 2.2916, Train acc: 0.3846, Val loss: 2.4995, Val acc: 0.3486\n",
      "Epoch 14/15, Epoch time: 222.48s Learning rate: 0.5000, Train loss: 2.2220, Train acc: 0.4001, Val loss: 2.3383, Val acc: 0.3850\n",
      "Epoch 15/15, Epoch time: 221.60s Learning rate: 0.5000, Train loss: 2.1353, Train acc: 0.4210, Val loss: 2.3323, Val acc: 0.3882\n",
      "Epoch 1/15, Epoch time: 220.64s Learning rate: 0.0500, Train loss: 4.1501, Train acc: 0.0648, Val loss: 3.8554, Val acc: 0.0998\n",
      "Epoch 2/15, Epoch time: 219.47s Learning rate: 0.0500, Train loss: 3.6204, Train acc: 0.1347, Val loss: 3.8247, Val acc: 0.1512\n",
      "Epoch 3/15, Epoch time: 220.07s Learning rate: 0.0500, Train loss: 3.3494, Train acc: 0.1812, Val loss: 3.2274, Val acc: 0.2041\n",
      "Epoch 4/15, Epoch time: 244.02s Learning rate: 0.0500, Train loss: 3.1326, Train acc: 0.2190, Val loss: 3.0237, Val acc: 0.2489\n",
      "Epoch 5/15, Epoch time: 223.45s Learning rate: 0.0500, Train loss: 2.9577, Train acc: 0.2518, Val loss: 2.9316, Val acc: 0.2634\n",
      "Epoch 6/15, Epoch time: 235.26s Learning rate: 0.0500, Train loss: 2.7822, Train acc: 0.2836, Val loss: 2.7983, Val acc: 0.2905\n",
      "Epoch 7/15, Epoch time: 235.66s Learning rate: 0.0500, Train loss: 2.6070, Train acc: 0.3203, Val loss: 2.6718, Val acc: 0.3073\n",
      "Epoch 8/15, Epoch time: 235.07s Learning rate: 0.0500, Train loss: 2.4578, Train acc: 0.3484, Val loss: 2.5949, Val acc: 0.3329\n",
      "Epoch 9/15, Epoch time: 233.59s Learning rate: 0.0500, Train loss: 2.3200, Train acc: 0.3797, Val loss: 2.8234, Val acc: 0.3020\n",
      "Epoch 10/15, Epoch time: 232.27s Learning rate: 0.0500, Train loss: 2.2158, Train acc: 0.4008, Val loss: 2.3557, Val acc: 0.3791\n",
      "Epoch 11/15, Epoch time: 254.01s Learning rate: 0.0500, Train loss: 2.0956, Train acc: 0.4259, Val loss: 2.2953, Val acc: 0.3930\n",
      "Epoch 12/15, Epoch time: 255.57s Learning rate: 0.0500, Train loss: 2.0129, Train acc: 0.4474, Val loss: 2.2749, Val acc: 0.4005\n",
      "Epoch 13/15, Epoch time: 257.67s Learning rate: 0.0500, Train loss: 1.9260, Train acc: 0.4662, Val loss: 2.3388, Val acc: 0.3947\n",
      "Epoch 14/15, Epoch time: 228.93s Learning rate: 0.0500, Train loss: 1.8402, Train acc: 0.4861, Val loss: 2.3168, Val acc: 0.4044\n",
      "Epoch 15/15, Epoch time: 251.77s Learning rate: 0.0500, Train loss: 1.7569, Train acc: 0.5046, Val loss: 2.1330, Val acc: 0.4413\n",
      "Epoch 1/15, Epoch time: 252.24s Learning rate: 0.0100, Train loss: 4.3112, Train acc: 0.0433, Val loss: 3.9546, Val acc: 0.0877\n",
      "Epoch 2/15, Epoch time: 251.03s Learning rate: 0.0100, Train loss: 3.7544, Train acc: 0.1167, Val loss: 3.5808, Val acc: 0.1402\n",
      "Epoch 3/15, Epoch time: 259.58s Learning rate: 0.0100, Train loss: 3.4638, Train acc: 0.1648, Val loss: 3.3214, Val acc: 0.1912\n",
      "Epoch 4/15, Epoch time: 248.40s Learning rate: 0.0100, Train loss: 3.2504, Train acc: 0.2042, Val loss: 3.1867, Val acc: 0.2180\n",
      "Epoch 5/15, Epoch time: 242.83s Learning rate: 0.0100, Train loss: 3.0742, Train acc: 0.2358, Val loss: 3.2045, Val acc: 0.2215\n",
      "Epoch 6/15, Epoch time: 243.14s Learning rate: 0.0100, Train loss: 2.9363, Train acc: 0.2626, Val loss: 2.9437, Val acc: 0.2598\n",
      "Epoch 7/15, Epoch time: 246.55s Learning rate: 0.0100, Train loss: 2.8112, Train acc: 0.2843, Val loss: 2.8857, Val acc: 0.2801\n",
      "Epoch 8/15, Epoch time: 254.49s Learning rate: 0.0100, Train loss: 2.6876, Train acc: 0.3101, Val loss: 2.7388, Val acc: 0.3092\n",
      "Epoch 9/15, Epoch time: 247.34s Learning rate: 0.0100, Train loss: 2.5794, Train acc: 0.3280, Val loss: 2.7161, Val acc: 0.3108\n",
      "Epoch 10/15, Epoch time: 243.81s Learning rate: 0.0100, Train loss: 2.4701, Train acc: 0.3543, Val loss: 2.6134, Val acc: 0.3332\n",
      "Epoch 11/15, Epoch time: 247.95s Learning rate: 0.0100, Train loss: 2.3632, Train acc: 0.3768, Val loss: 2.5531, Val acc: 0.3456\n",
      "Epoch 12/15, Epoch time: 248.90s Learning rate: 0.0100, Train loss: 2.2647, Train acc: 0.3955, Val loss: 2.4525, Val acc: 0.3673\n",
      "Epoch 13/15, Epoch time: 241.98s Learning rate: 0.0100, Train loss: 2.1810, Train acc: 0.4156, Val loss: 2.4554, Val acc: 0.3727\n",
      "Epoch 14/15, Epoch time: 244.75s Learning rate: 0.0100, Train loss: 2.0777, Train acc: 0.4352, Val loss: 2.3843, Val acc: 0.3838\n",
      "Epoch 15/15, Epoch time: 230.84s Learning rate: 0.0100, Train loss: 2.0092, Train acc: 0.4520, Val loss: 2.3654, Val acc: 0.3883\n"
     ]
    },
    {
     "data": {
      "text/plain": [
       "Text(0.5, 1.0, 'Task3_LearningRate')"
      ]
     },
     "execution_count": 15,
     "metadata": {},
     "output_type": "execute_result"
    }
   ],
   "source": [
    "# Parameters for this portion\n",
    "LR = [0.5, 0.05, 0.01]\n",
    "BATCH_SIZE = 128\n",
    "NUM_EPOCH = 15\n",
    "WEIGHT_DECAY = 0\n",
    "LR_SCHEDULE = None\n",
    "SEED = 0\n",
    "MOMENTUM = 0.9\n",
    "\n",
    "# fix random seeds\n",
    "torch.manual_seed(SEED)\n",
    "np.random.seed(SEED)\n",
    "torch.use_deterministic_algorithms(False) # Originally True\n",
    "\n",
    "# train val\n",
    "\n",
    "train_loader = torch.utils.data.DataLoader(train_set_norm, batch_size=BATCH_SIZE, shuffle=True)\n",
    "val_loader = torch.utils.data.DataLoader(val_set_norm, batch_size=BATCH_SIZE, shuffle=True)\n",
    "\n",
    "# criterion\n",
    "criterion = torch.nn.CrossEntropyLoss()\n",
    "criterion = criterion.to(device)\n",
    "\n",
    "fig, (ax1, ax2) = plt.subplots(2, 1, figsize=(10,12))\n",
    "ax1.set_xlabel('Epoch')\n",
    "ax1.set_ylabel('Loss')\n",
    "ax2.set_xlabel('Epoch')\n",
    "ax2.set_ylabel('Accuracy')\n",
    "colors_train = ['ro-', 'go-', 'bo-']\n",
    "colors_val = ['ro--', 'go--', 'bo--']\n",
    "\n",
    "# loop for 3 different learning rates\n",
    "for i in range(len(LR)):\n",
    "\n",
    "  # model\n",
    "  model = MobileNet(100)\n",
    "  model = model.to(device)\n",
    "\n",
    "  lr = LR[i]\n",
    "  optimizer = torch.optim.SGD(model.parameters(), lr=lr, momentum=MOMENTUM, weight_decay=WEIGHT_DECAY)\n",
    "  if LR_SCHEDULE == True:\n",
    "    scheduler = torch.optim.lr_scheduler.CosineAnnealingLR(optimizer, NUM_EPOCH)\n",
    "  else:\n",
    "    scheduler = torch.optim.lr_scheduler.ConstantLR(optimizer, factor=1.0, total_iters=NUM_EPOCH)\n",
    "\n",
    "\n",
    "  stat_training_loss = []\n",
    "  stat_val_loss = []\n",
    "  stat_training_acc = []\n",
    "  stat_val_acc = []\n",
    "  # equals = torch.tensor([0.0])\n",
    "  for epoch in range(NUM_EPOCH):\n",
    "    training_loss = 0\n",
    "    training_acc = 0\n",
    "    training_samples = 0\n",
    "    val_loss = 0\n",
    "    val_acc = 0\n",
    "    val_samples = 0\n",
    "    start_time = time.time()\n",
    "\n",
    "    # training\n",
    "    model.train()\n",
    "    for imgs, labels in train_loader:\n",
    "      imgs = imgs.to(device)\n",
    "      labels = labels.to(device)\n",
    "      \n",
    "      batch_size = imgs.shape[0]\n",
    "      optimizer.zero_grad()\n",
    "      logits = model.forward(imgs)\n",
    "      loss = criterion(logits, labels)\n",
    "      loss.backward()\n",
    "      optimizer.step()\n",
    "      _, top_class = logits.topk(1, dim=1)\n",
    "      equals = top_class == labels.view(*top_class.shape)\n",
    "      training_acc += torch.sum(equals.type(torch.FloatTensor)).item()\n",
    "      training_loss += batch_size * loss.item()\n",
    "      training_samples += batch_size\n",
    "\n",
    "    # validation\n",
    "    model.eval()\n",
    "    for val_imgs, val_labels in val_loader:\n",
    "      val_imgs = val_imgs.to(device)\n",
    "      val_labels = val_labels.to(device)\n",
    "\n",
    "      batch_size = val_imgs.shape[0]\n",
    "      val_logits = model.forward(val_imgs)\n",
    "      loss = criterion(val_logits, val_labels)\n",
    "      _, top_class = val_logits.topk(1, dim=1)\n",
    "      equals = top_class == val_labels.view(*top_class.shape)\n",
    "      val_acc += torch.sum(equals.type(torch.FloatTensor)).item()\n",
    "      val_loss += batch_size * loss.item()\n",
    "      val_samples += batch_size\n",
    "    assert val_samples == 10000\n",
    "\n",
    "    end_time = time.time()\n",
    "    epoch_secs =  end_time - start_time\n",
    "\n",
    "    # update stats\n",
    "    stat_training_loss.append(training_loss/training_samples)\n",
    "    stat_val_loss.append(val_loss/val_samples)\n",
    "    stat_training_acc.append(training_acc/training_samples)\n",
    "    stat_val_acc.append(val_acc/val_samples)\n",
    "    # print\n",
    "    print(f\"Epoch {(epoch+1):d}/{NUM_EPOCH:d}, Epoch time: {epoch_secs:.2f}s Learning rate: {lr:.4f}, Train loss: {(training_loss/training_samples):.4f}, Train acc: {(training_acc/training_samples):.4f}, Val loss: {(val_loss/val_samples):.4f}, Val acc: {(val_acc/val_samples):.4f}\")\n",
    "    # lr scheduler\n",
    "    scheduler.step()\n",
    "  # plot\n",
    "  # plot_loss_acc(stat_training_loss, stat_val_loss, stat_training_acc, stat_val_acc, \"Task3_LearningRate.png\")\n",
    "\n",
    "  \n",
    "  ax1.plot(stat_training_loss, colors_train[i], label='train_loss (lr = ' + str(lr) + ')')\n",
    "  ax1.plot(stat_val_loss, colors_val[i], label='val_loss (lr = ' + str(lr) + ')')\n",
    "  ax2.plot(stat_training_acc, colors_train[i], label='train_loss (lr = ' + str(lr) + ')')\n",
    "  ax2.plot(stat_val_acc, colors_val[i], label='val_loss (lr = ' + str(lr) + ')')\n",
    "\n",
    "ax1.legend()\n",
    "ax2.legend()\n",
    "plt.title(\"Task3_LearningRate\")\n"
   ]
  },
  {
   "cell_type": "code",
   "execution_count": 18,
   "id": "fQAUoHQeU6uy",
   "metadata": {
    "ExecuteTime": {
     "end_time": "2023-03-15T03:05:46.396419Z",
     "start_time": "2023-03-15T03:05:46.355975Z"
    },
    "colab": {
     "base_uri": "https://localhost:8080/"
    },
    "executionInfo": {
     "elapsed": 907,
     "status": "ok",
     "timestamp": 1678733827266,
     "user": {
      "displayName": "Sean goh",
      "userId": "10849256875953016575"
     },
     "user_tz": -480
    },
    "id": "fQAUoHQeU6uy",
    "outputId": "34b33266-659f-4537-b8a4-b4adafa1ead7"
   },
   "outputs": [
    {
     "data": {
      "text/plain": [
       "[<matplotlib.lines.Line2D at 0x7fe6c0406820>]"
      ]
     },
     "execution_count": 18,
     "metadata": {},
     "output_type": "execute_result"
    }
   ],
   "source": [
    "fig, (ax1, ax2) = plt.subplots(2, 1, figsize=(10,12))\n",
    "ax1.set_xlabel('Epoch')\n",
    "ax1.set_ylabel('Loss')\n",
    "ax2.set_xlabel('Epoch')\n",
    "ax2.set_ylabel('Accuracy')\n",
    "colors_train = ['ro-', 'go-', 'bo-']\n",
    "colors_val = ['ro--', 'go--', 'bo--']\n",
    "\n",
    "ax1.plot(stat_training_loss, colors_train[2], label='train_loss (lr = ' + str(lr) + ')')\n",
    "ax1.plot(stat_val_loss, colors_val[2], label='val_loss (lr = ' + str(lr) + ')')\n",
    "ax2.plot(stat_training_acc, colors_train[2], label='train_loss (lr = ' + str(lr) + ')')\n",
    "ax2.plot(stat_val_acc, colors_val[2], label='val_loss (lr = ' + str(lr) + ')')\n",
    "\n",
    "\n",
    "# ax1.legend()\n",
    "# ax2.legend()"
   ]
  },
  {
   "cell_type": "code",
   "execution_count": 17,
   "id": "dzWXPlIjVght",
   "metadata": {
    "ExecuteTime": {
     "end_time": "2023-03-15T03:05:38.818244Z",
     "start_time": "2023-03-15T03:05:38.800556Z"
    },
    "colab": {
     "base_uri": "https://localhost:8080/"
    },
    "executionInfo": {
     "elapsed": 451,
     "status": "ok",
     "timestamp": 1678734091691,
     "user": {
      "displayName": "Sean goh",
      "userId": "10849256875953016575"
     },
     "user_tz": -480
    },
    "id": "dzWXPlIjVght",
    "outputId": "66d6a372-43ac-4306-a0fb-628a0929ec62"
   },
   "outputs": [
    {
     "data": {
      "text/plain": [
       "[<matplotlib.lines.Line2D at 0x7fe6a08c4c40>]"
      ]
     },
     "execution_count": 17,
     "metadata": {},
     "output_type": "execute_result"
    }
   ],
   "source": [
    "x = np.arange(15)\n",
    "plt.plot(x, stat_training_loss)"
   ]
  }
 ],
 "metadata": {
  "accelerator": "GPU",
  "colab": {
   "collapsed_sections": [
    "6ca5a1f4",
    "8fe7d397",
    "fGZHmhUbHVhS"
   ],
   "provenance": []
  },
  "gpuClass": "standard",
  "kernelspec": {
   "display_name": "Python 3 (ipykernel)",
   "language": "python",
   "name": "python3"
  },
  "language_info": {
   "codemirror_mode": {
    "name": "ipython",
    "version": 3
   },
   "file_extension": ".py",
   "mimetype": "text/x-python",
   "name": "python",
   "nbconvert_exporter": "python",
   "pygments_lexer": "ipython3",
   "version": "3.9.12"
  },
  "widgets": {
   "application/vnd.jupyter.widget-state+json": {
    "0c070997ed7349a6b443281d8c6f1954": {
     "model_module": "@jupyter-widgets/controls",
     "model_module_version": "1.5.0",
     "model_name": "HTMLModel",
     "state": {
      "_dom_classes": [],
      "_model_module": "@jupyter-widgets/controls",
      "_model_module_version": "1.5.0",
      "_model_name": "HTMLModel",
      "_view_count": null,
      "_view_module": "@jupyter-widgets/controls",
      "_view_module_version": "1.5.0",
      "_view_name": "HTMLView",
      "description": "",
      "description_tooltip": null,
      "layout": "IPY_MODEL_4cd7bb44c2ba4884a8a0a2a0da379c69",
      "placeholder": "​",
      "style": "IPY_MODEL_d355217f442a4e668adbf33a6a7dacc2",
      "value": " 169001437/169001437 [00:08&lt;00:00, 29092224.04it/s]"
     }
    },
    "187e88df977e4cc7bd5e24a08c4190e0": {
     "model_module": "@jupyter-widgets/base",
     "model_module_version": "1.2.0",
     "model_name": "LayoutModel",
     "state": {
      "_model_module": "@jupyter-widgets/base",
      "_model_module_version": "1.2.0",
      "_model_name": "LayoutModel",
      "_view_count": null,
      "_view_module": "@jupyter-widgets/base",
      "_view_module_version": "1.2.0",
      "_view_name": "LayoutView",
      "align_content": null,
      "align_items": null,
      "align_self": null,
      "border": null,
      "bottom": null,
      "display": null,
      "flex": null,
      "flex_flow": null,
      "grid_area": null,
      "grid_auto_columns": null,
      "grid_auto_flow": null,
      "grid_auto_rows": null,
      "grid_column": null,
      "grid_gap": null,
      "grid_row": null,
      "grid_template_areas": null,
      "grid_template_columns": null,
      "grid_template_rows": null,
      "height": null,
      "justify_content": null,
      "justify_items": null,
      "left": null,
      "margin": null,
      "max_height": null,
      "max_width": null,
      "min_height": null,
      "min_width": null,
      "object_fit": null,
      "object_position": null,
      "order": null,
      "overflow": null,
      "overflow_x": null,
      "overflow_y": null,
      "padding": null,
      "right": null,
      "top": null,
      "visibility": null,
      "width": null
     }
    },
    "242afb5e7a5d4a7cba48d8ec9accebae": {
     "model_module": "@jupyter-widgets/controls",
     "model_module_version": "1.5.0",
     "model_name": "ProgressStyleModel",
     "state": {
      "_model_module": "@jupyter-widgets/controls",
      "_model_module_version": "1.5.0",
      "_model_name": "ProgressStyleModel",
      "_view_count": null,
      "_view_module": "@jupyter-widgets/base",
      "_view_module_version": "1.2.0",
      "_view_name": "StyleView",
      "bar_color": null,
      "description_width": ""
     }
    },
    "4cd7bb44c2ba4884a8a0a2a0da379c69": {
     "model_module": "@jupyter-widgets/base",
     "model_module_version": "1.2.0",
     "model_name": "LayoutModel",
     "state": {
      "_model_module": "@jupyter-widgets/base",
      "_model_module_version": "1.2.0",
      "_model_name": "LayoutModel",
      "_view_count": null,
      "_view_module": "@jupyter-widgets/base",
      "_view_module_version": "1.2.0",
      "_view_name": "LayoutView",
      "align_content": null,
      "align_items": null,
      "align_self": null,
      "border": null,
      "bottom": null,
      "display": null,
      "flex": null,
      "flex_flow": null,
      "grid_area": null,
      "grid_auto_columns": null,
      "grid_auto_flow": null,
      "grid_auto_rows": null,
      "grid_column": null,
      "grid_gap": null,
      "grid_row": null,
      "grid_template_areas": null,
      "grid_template_columns": null,
      "grid_template_rows": null,
      "height": null,
      "justify_content": null,
      "justify_items": null,
      "left": null,
      "margin": null,
      "max_height": null,
      "max_width": null,
      "min_height": null,
      "min_width": null,
      "object_fit": null,
      "object_position": null,
      "order": null,
      "overflow": null,
      "overflow_x": null,
      "overflow_y": null,
      "padding": null,
      "right": null,
      "top": null,
      "visibility": null,
      "width": null
     }
    },
    "69fd4d4fe9e046a394965be40288b2ae": {
     "model_module": "@jupyter-widgets/controls",
     "model_module_version": "1.5.0",
     "model_name": "HTMLModel",
     "state": {
      "_dom_classes": [],
      "_model_module": "@jupyter-widgets/controls",
      "_model_module_version": "1.5.0",
      "_model_name": "HTMLModel",
      "_view_count": null,
      "_view_module": "@jupyter-widgets/controls",
      "_view_module_version": "1.5.0",
      "_view_name": "HTMLView",
      "description": "",
      "description_tooltip": null,
      "layout": "IPY_MODEL_edeca4bdece3445e9089215ee04b2a2d",
      "placeholder": "​",
      "style": "IPY_MODEL_d78a3fbf810648fe80b0aed4277c114a",
      "value": "100%"
     }
    },
    "b1f9a67710af4177a6ae6ffb274c65f1": {
     "model_module": "@jupyter-widgets/base",
     "model_module_version": "1.2.0",
     "model_name": "LayoutModel",
     "state": {
      "_model_module": "@jupyter-widgets/base",
      "_model_module_version": "1.2.0",
      "_model_name": "LayoutModel",
      "_view_count": null,
      "_view_module": "@jupyter-widgets/base",
      "_view_module_version": "1.2.0",
      "_view_name": "LayoutView",
      "align_content": null,
      "align_items": null,
      "align_self": null,
      "border": null,
      "bottom": null,
      "display": null,
      "flex": null,
      "flex_flow": null,
      "grid_area": null,
      "grid_auto_columns": null,
      "grid_auto_flow": null,
      "grid_auto_rows": null,
      "grid_column": null,
      "grid_gap": null,
      "grid_row": null,
      "grid_template_areas": null,
      "grid_template_columns": null,
      "grid_template_rows": null,
      "height": null,
      "justify_content": null,
      "justify_items": null,
      "left": null,
      "margin": null,
      "max_height": null,
      "max_width": null,
      "min_height": null,
      "min_width": null,
      "object_fit": null,
      "object_position": null,
      "order": null,
      "overflow": null,
      "overflow_x": null,
      "overflow_y": null,
      "padding": null,
      "right": null,
      "top": null,
      "visibility": null,
      "width": null
     }
    },
    "bd025a3dbac642fda20967208600d67e": {
     "model_module": "@jupyter-widgets/controls",
     "model_module_version": "1.5.0",
     "model_name": "HBoxModel",
     "state": {
      "_dom_classes": [],
      "_model_module": "@jupyter-widgets/controls",
      "_model_module_version": "1.5.0",
      "_model_name": "HBoxModel",
      "_view_count": null,
      "_view_module": "@jupyter-widgets/controls",
      "_view_module_version": "1.5.0",
      "_view_name": "HBoxView",
      "box_style": "",
      "children": [
       "IPY_MODEL_69fd4d4fe9e046a394965be40288b2ae",
       "IPY_MODEL_e209a46d612f473694f3771e38fda7a8",
       "IPY_MODEL_0c070997ed7349a6b443281d8c6f1954"
      ],
      "layout": "IPY_MODEL_b1f9a67710af4177a6ae6ffb274c65f1"
     }
    },
    "d355217f442a4e668adbf33a6a7dacc2": {
     "model_module": "@jupyter-widgets/controls",
     "model_module_version": "1.5.0",
     "model_name": "DescriptionStyleModel",
     "state": {
      "_model_module": "@jupyter-widgets/controls",
      "_model_module_version": "1.5.0",
      "_model_name": "DescriptionStyleModel",
      "_view_count": null,
      "_view_module": "@jupyter-widgets/base",
      "_view_module_version": "1.2.0",
      "_view_name": "StyleView",
      "description_width": ""
     }
    },
    "d78a3fbf810648fe80b0aed4277c114a": {
     "model_module": "@jupyter-widgets/controls",
     "model_module_version": "1.5.0",
     "model_name": "DescriptionStyleModel",
     "state": {
      "_model_module": "@jupyter-widgets/controls",
      "_model_module_version": "1.5.0",
      "_model_name": "DescriptionStyleModel",
      "_view_count": null,
      "_view_module": "@jupyter-widgets/base",
      "_view_module_version": "1.2.0",
      "_view_name": "StyleView",
      "description_width": ""
     }
    },
    "e209a46d612f473694f3771e38fda7a8": {
     "model_module": "@jupyter-widgets/controls",
     "model_module_version": "1.5.0",
     "model_name": "FloatProgressModel",
     "state": {
      "_dom_classes": [],
      "_model_module": "@jupyter-widgets/controls",
      "_model_module_version": "1.5.0",
      "_model_name": "FloatProgressModel",
      "_view_count": null,
      "_view_module": "@jupyter-widgets/controls",
      "_view_module_version": "1.5.0",
      "_view_name": "ProgressView",
      "bar_style": "success",
      "description": "",
      "description_tooltip": null,
      "layout": "IPY_MODEL_187e88df977e4cc7bd5e24a08c4190e0",
      "max": 169001437,
      "min": 0,
      "orientation": "horizontal",
      "style": "IPY_MODEL_242afb5e7a5d4a7cba48d8ec9accebae",
      "value": 169001437
     }
    },
    "edeca4bdece3445e9089215ee04b2a2d": {
     "model_module": "@jupyter-widgets/base",
     "model_module_version": "1.2.0",
     "model_name": "LayoutModel",
     "state": {
      "_model_module": "@jupyter-widgets/base",
      "_model_module_version": "1.2.0",
      "_model_name": "LayoutModel",
      "_view_count": null,
      "_view_module": "@jupyter-widgets/base",
      "_view_module_version": "1.2.0",
      "_view_name": "LayoutView",
      "align_content": null,
      "align_items": null,
      "align_self": null,
      "border": null,
      "bottom": null,
      "display": null,
      "flex": null,
      "flex_flow": null,
      "grid_area": null,
      "grid_auto_columns": null,
      "grid_auto_flow": null,
      "grid_auto_rows": null,
      "grid_column": null,
      "grid_gap": null,
      "grid_row": null,
      "grid_template_areas": null,
      "grid_template_columns": null,
      "grid_template_rows": null,
      "height": null,
      "justify_content": null,
      "justify_items": null,
      "left": null,
      "margin": null,
      "max_height": null,
      "max_width": null,
      "min_height": null,
      "min_width": null,
      "object_fit": null,
      "object_position": null,
      "order": null,
      "overflow": null,
      "overflow_x": null,
      "overflow_y": null,
      "padding": null,
      "right": null,
      "top": null,
      "visibility": null,
      "width": null
     }
    }
   }
  }
 },
 "nbformat": 4,
 "nbformat_minor": 5
}
